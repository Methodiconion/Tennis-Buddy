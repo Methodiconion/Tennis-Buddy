{
 "cells": [
  {
   "cell_type": "code",
   "execution_count": null,
   "id": "67a78544-2183-4cb8-aaea-fbd7bcbdd38b",
   "metadata": {
    "execution": {
     "iopub.execute_input": "2025-05-06T11:00:43.472324Z",
     "iopub.status.busy": "2025-05-06T11:00:43.468341Z",
     "iopub.status.idle": "2025-05-06T11:00:43.481518Z",
     "shell.execute_reply": "2025-05-06T11:00:43.481518Z",
     "shell.execute_reply.started": "2025-05-06T11:00:43.472324Z"
    }
   },
   "outputs": [],
   "source": [
    "import cv2\n",
    "import numpy as np\n",
    "import IPython\n",
    "import math\n",
    "\n",
    "def show(img):\n",
    "    # Save the image to a temporary byte buffer\n",
    "    is_success, buffer = cv2.imencode(\".png\", img)\n",
    "    \n",
    "    if is_success:\n",
    "        # Display the image using IPython's display function\n",
    "        IPython.display.display(IPython.display.Image(data=buffer.tobytes()))\n",
    "    else:\n",
    "        print(\"Error encoding image for display.\")\n",
    "\n",
    "def pixels_to_angle(pixels): # outputs in degrees\n",
    "    theta =  ( 2 * math.atan(4.25/11) ) * ( pixels / 671.0410824679549 )\n",
    "    return theta\n",
    "\n",
    "def pixels_to_distance(pixels):\n",
    "  theta = pixels * ( 2 * math.atan(4.25/11) ) / ( 671.0410824679549 )\n",
    "  r_d = 69 # 69 mm\n",
    "  d_c = r_d / math.sin( theta / 2 )\n",
    "  return d_c\n",
    "\n",
    "def extract_ball_position(img1,img2):\n",
    "    # Calculate the absolute difference\n",
    "    diff12 = cv2.absdiff(img1, img2)\n",
    "    \n",
    "    \n",
    "    # Dilate the image\n",
    "    size=15\n",
    "    kernel_dilate = cv2.getStructuringElement(cv2.MORPH_RECT, (size, size))\n",
    "    image = cv2.dilate(diff12, kernel_dilate, iterations=1)\n",
    "    \n",
    "    # Apply Threshold to the image\n",
    "    ret, image = cv2.threshold(image, 64, 255, cv2.THRESH_BINARY)\n",
    "    image = cv2.erode(image, kernel_dilate, iterations=1)\n",
    "    \n",
    "    \n",
    "    # Find contours\n",
    "    grey_image = cv2.cvtColor(image, cv2.COLOR_BGR2GRAY)\n",
    "    contours, hierarchy = cv2.findContours(grey_image, cv2.RETR_EXTERNAL, cv2.CHAIN_APPROX_SIMPLE)\n",
    "    \n",
    "    # Isolate contour with the greatest moment\n",
    "    greatest_counter, greatest_moment = sorted( \n",
    "        [ [ contour, cv2.moments(contour) ] for contour in contours ],\n",
    "        key=lambda x: x[1]['m00']\n",
    "    )[-1]\n",
    "    \n",
    "    # find center of mass\n",
    "    pixel_area = greatest_moment['m00']\n",
    "    alpha_x_pixels = greatest_moment['m10']/pixel_area - 1920/2\n",
    "    alpha_y_pixels = 1080/2 - greatest_moment['m01']/pixel_area\n",
    "    alpha_x = pixels_to_angle(alpha_x_pixels)/math.pi*180\n",
    "    alpha_y = pixels_to_angle(alpha_y_pixels)/math.pi*180\n",
    "    \n",
    "    # Find minimum area rectangle, thereby determining the shortest width/theta\n",
    "    obj = cv2.minAreaRect(greatest_counter)\n",
    "    print(obj)\n",
    "    points = cv2.boxPoints(obj)\n",
    "    points = np.array([[ [[int(point[0]),int(point[1])]] for point in points]])\n",
    "    \n",
    "    #calculate ball diameter in pixels\n",
    "    d_b_pixels = min( obj[1])\n",
    "    distance = pixels_to_distance(d_b_pixels)/1000\n",
    "\n",
    "    return {\n",
    "        \"alpha\":(alpha_x,alpha_y), # degrees ( right, up )\n",
    "        'distance':distance # meters\n",
    "    }"
   ]
  },
  {
   "cell_type": "code",
   "execution_count": 122,
   "id": "64285584-c7c5-445c-9f32-04143bcee664",
   "metadata": {
    "execution": {
     "iopub.execute_input": "2025-05-06T10:55:06.753306Z",
     "iopub.status.busy": "2025-05-06T10:55:06.753306Z",
     "iopub.status.idle": "2025-05-06T10:55:06.767137Z",
     "shell.execute_reply": "2025-05-06T10:55:06.767137Z",
     "shell.execute_reply.started": "2025-05-06T10:55:06.753306Z"
    }
   },
   "outputs": [],
   "source": [
    "framepaths=[f\"G:\\\\My Drive\\\\School\\\\2025 _Spring\\\\EE 497\\\\Frame-by-frame demo 01\\\\0{i}.png\" for i in range(1,4) ]"
   ]
  },
  {
   "cell_type": "markdown",
   "id": "c9411e55-d423-4cea-b8c6-d9cbb403890b",
   "metadata": {
    "execution": {
     "iopub.execute_input": "2025-05-06T08:43:55.396343Z",
     "iopub.status.busy": "2025-05-06T08:43:55.395343Z",
     "iopub.status.idle": "2025-05-06T08:43:55.404343Z",
     "shell.execute_reply": "2025-05-06T08:43:55.403366Z",
     "shell.execute_reply.started": "2025-05-06T08:43:55.396343Z"
    }
   },
   "source": [
    "https://stackoverflow.com/questions/56183201/detect-and-visualize-differences-between-two-images-with-opencv-python"
   ]
  },
  {
   "cell_type": "code",
   "execution_count": 138,
   "id": "e3157217-6297-4cf7-a9e8-3f269be5c76b",
   "metadata": {
    "execution": {
     "iopub.execute_input": "2025-05-06T11:00:46.192169Z",
     "iopub.status.busy": "2025-05-06T11:00:46.192169Z",
     "iopub.status.idle": "2025-05-06T11:00:46.518041Z",
     "shell.execute_reply": "2025-05-06T11:00:46.518041Z",
     "shell.execute_reply.started": "2025-05-06T11:00:46.192169Z"
    }
   },
   "outputs": [
    {
     "name": "stdout",
     "output_type": "stream",
     "text": [
      "((1048.68408203125, 317.7688903808594), (91.49513244628906, 95.86592102050781), 29.05460548400879)\n"
     ]
    },
    {
     "data": {
      "text/plain": [
       "{'alpha': (5.6504356212051405, 13.872443131571433),\n",
       " 'distance': 1.3731400576264323}"
      ]
     },
     "execution_count": 138,
     "metadata": {},
     "output_type": "execute_result"
    }
   ],
   "source": [
    "# Load two images for difference calculation\n",
    "img1 = cv2.imread( framepaths[1] )\n",
    "img2 = cv2.imread( framepaths[2] )\n",
    "\n",
    "# Extract ball position\n",
    "extract_ball_position(img1,img2)"
   ]
  }
 ],
 "metadata": {
  "kernelspec": {
   "display_name": "Python [conda env:base] *",
   "language": "python",
   "name": "conda-base-py"
  },
  "language_info": {
   "codemirror_mode": {
    "name": "ipython",
    "version": 3
   },
   "file_extension": ".py",
   "mimetype": "text/x-python",
   "name": "python",
   "nbconvert_exporter": "python",
   "pygments_lexer": "ipython3",
   "version": "3.12.7"
  }
 },
 "nbformat": 4,
 "nbformat_minor": 5
}
